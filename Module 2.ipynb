{
 "cells": [
  {
   "cell_type": "code",
   "execution_count": 18,
   "id": "37fc3871",
   "metadata": {},
   "outputs": [],
   "source": [
    "# Condtitional Statements: It checks only condition which returns True or False.\n",
    "# if\n",
    "\n",
    "# if else\n",
    "\n",
    "# elif\n",
    "\n",
    "# nested if"
   ]
  },
  {
   "cell_type": "code",
   "execution_count": 17,
   "id": "94c419f0",
   "metadata": {},
   "outputs": [
    {
     "name": "stdout",
     "output_type": "stream",
     "text": [
      "Both are the same values\n"
     ]
    }
   ],
   "source": [
    "# 1. if\n",
    "# Syntax:\n",
    "# if condition:\n",
    "#     block of code/suite(if condition is True it will execute the block of code otherwise it will exit.)\n",
    "\n",
    "if 45 == 45:\n",
    "    print(\"Both are the same values\")\n"
   ]
  },
  {
   "cell_type": "code",
   "execution_count": null,
   "id": "b798195a",
   "metadata": {},
   "outputs": [],
   "source": [
    "# 2. if else\n",
    "# Syntax:\n",
    "# if condition:\n",
    "#     block of code/suite(if condition is True it will execute the block of code otherwise it will exit.)\n",
    "# else:\n",
    "#     block of code/suite(if condition is True it will False it will execute the block of code otherwise it will exit.)\n",
    "\n",
    "\n",
    "input_from_user = input(\"Enter the number to check Even or Odd.\")\n",
    "\n",
    "number = int(input_from_user)\n",
    "\n",
    "print(number)\n",
    "\n",
    "if (number % 2) == 0:\n",
    "    print(\"This is an even number.\")\n",
    "else:\n",
    "    print(\"This is an odd number.\")\n"
   ]
  },
  {
   "cell_type": "code",
   "execution_count": 2,
   "id": "6911651f",
   "metadata": {},
   "outputs": [
    {
     "name": "stdout",
     "output_type": "stream",
     "text": [
      "Enter your percentage  to check the grade: 45\n",
      "You are Failed, and your percentage is : 45.0\n"
     ]
    }
   ],
   "source": [
    "# 3. elif\n",
    "# Syntax:\n",
    "# if condition:\n",
    "#     block of code/suite(if condition is True it will execute the block of code otherwise it will exit.)\n",
    "# elif condition:\n",
    "#     block of code/suite(elif condition is True it will execute the block of code otherwise it will exit.)\n",
    "# else:\n",
    "#     block of code/suite(if condition is True it will False it will execute the block of code otherwise it will exit.)\n",
    "\n",
    "\n",
    "input_from_user_elif = input(\"Enter your percentage  to check the grade: \")\n",
    "\n",
    "percentage = float(input_from_user_elif)\n",
    "\n",
    "if percentage <= 100 and percentage >= 90.01:\n",
    "    print(\"This is Grade A.\")\n",
    "elif percentage <= 90 and percentage >= 80.01:\n",
    "    print(\"This is a Grade B.\")\n",
    "elif percentage <= 80 and percentage >= 70.01:\n",
    "    print(\"This is Grade C.\")\n",
    "elif percentage <= 70 and percentage >= 60.01:    \n",
    "    print(\"This is Grade D.\")\n",
    "elif percentage <= 60 and percentage >= 0.01:\n",
    "    print(\"You are Failed,\", \"and your percentage is :\", percentage)\n",
    "else:\n",
    "    print(\"Enter a valid percentage.\")"
   ]
  },
  {
   "cell_type": "code",
   "execution_count": 4,
   "id": "1ac51b18",
   "metadata": {},
   "outputs": [
    {
     "name": "stdout",
     "output_type": "stream",
     "text": [
      "Enter your percentage  to check the grade: -789\n",
      "Enter a valid percentage.\n"
     ]
    }
   ],
   "source": [
    "# 3. nested if\n",
    "# Syntax:\n",
    "# if condition1:\n",
    "#     if condition2:\n",
    "#         block of code/suite(if condition1 and Condition2 both are True it will execute the block of code otherwise it will exit.)\n",
    "# elif condition3:\n",
    "#     if condition4:\n",
    "#         block of code/suite(if condition3 and Condition4 both are True it will execute the block of code otherwise it will exit.)\n",
    "# else:\n",
    "#     block of code/suite(if condition is True it will False it will execute the block of code otherwise it will exit.)\n",
    "\n",
    "input_from_user_percentage_nested_if = input(\"Enter your percentage  to check the grade: \")\n",
    "\n",
    "percentage = float(input_from_user_percentage_nested_if)\n",
    "\n",
    "if percentage <= 100 and percentage >=0.01:\n",
    "    if percentage >= 90.01:\n",
    "        print(\"This is Grade A.\")\n",
    "    elif percentage >= 80.01:\n",
    "        print(\"This is a Grade B.\")\n",
    "    elif percentage >= 70.01:\n",
    "        print(\"This is Grade C.\")\n",
    "    elif percentage >= 60.01:\n",
    "        print(\"This is Grade D.\")\n",
    "    else:\n",
    "        print(\"You are Failed,\", \"and your percentage is :\", percentage)\n",
    "else:\n",
    "    print(\"Enter a valid percentage.\")\n"
   ]
  },
  {
   "cell_type": "code",
   "execution_count": 5,
   "id": "cdb9750d",
   "metadata": {},
   "outputs": [
    {
     "name": "stdout",
     "output_type": "stream",
     "text": [
      "Enter the number to check on which table falling the number: 45\n",
      "This number is falling in 5's table.\n",
      "This number is falling in 9's table.\n",
      "Enter a valid number.\n"
     ]
    }
   ],
   "source": [
    "number = int(input(\"Enter the number to check on which table falling the number: \"))\n",
    "\n",
    "if number > 1 and number <= 100:\n",
    "    if number % 2 == 0 and number <= 20:\n",
    "        print(\"This number is falling in 2's table.\")\n",
    "    if number % 3 == 0 and number <= 30:\n",
    "        print(\"This number is falling in 3's table.\")\n",
    "    if number % 4 == 0 and number <= 40:\n",
    "        print(\"This number is falling in 4's table.\")\n",
    "    if number % 5 == 0 and number <= 50:\n",
    "        print(\"This number is falling in 5's table.\")\n",
    "    if number % 6 == 0 and number <= 60:\n",
    "        print(\"This number is falling in 6's table.\")\n",
    "    if number % 7 == 0 and number <= 70:\n",
    "        print(\"This number is falling in 7's table.\")\n",
    "    if number % 8 == 0 and number <= 80:\n",
    "        print(\"This number is falling in 8's table.\")\n",
    "    if number % 9 == 0 and number <= 90:\n",
    "        print(\"This number is falling in 9's table.\")\n",
    "    if number % 10 == 0 and number <= 100:\n",
    "        print(\"This number is falling in 10's table.\")\n",
    "    else:\n",
    "        print(\"Enter a valid number.\")"
   ]
  },
  {
   "cell_type": "code",
   "execution_count": 9,
   "id": "1d222245",
   "metadata": {},
   "outputs": [
    {
     "name": "stdout",
     "output_type": "stream",
     "text": [
      "A1X\n",
      "A1Y\n",
      "A1Z\n",
      "A2X\n",
      "A2Y\n",
      "A2Z\n",
      "A3X\n",
      "A3Y\n",
      "A3Z\n",
      "B1X\n",
      "B1Y\n",
      "B1Z\n",
      "B2X\n",
      "B2Y\n",
      "B2Z\n",
      "B3X\n",
      "B3Y\n",
      "B3Z\n",
      "C1X\n",
      "C1Y\n",
      "C1Z\n",
      "C2X\n",
      "C2Y\n",
      "C2Z\n",
      "C3X\n",
      "C3Y\n",
      "C3Z\n"
     ]
    }
   ],
   "source": [
    "for i in \"ABC\":\n",
    "    for j in \"123\":\n",
    "        for k in \"XYZ\":\n",
    "            print(i + j + k)\n",
    "    "
   ]
  },
  {
   "cell_type": "code",
   "execution_count": 4,
   "id": "799ce68b",
   "metadata": {},
   "outputs": [
    {
     "name": "stdout",
     "output_type": "stream",
     "text": [
      "Enter the positive number: 10\n",
      "55\n"
     ]
    }
   ],
   "source": [
    "number = int(input(\"Enter the positive number: \"))\n",
    "\n",
    "output = 0\n",
    "\n",
    "while number != 0: \n",
    "    output += number\n",
    "    \n",
    "    number -= 1\n",
    "    \n",
    "\n",
    "\n",
    "    print(output)"
   ]
  },
  {
   "cell_type": "code",
   "execution_count": 17,
   "id": "0c3e1d44",
   "metadata": {},
   "outputs": [
    {
     "name": "stdout",
     "output_type": "stream",
     "text": [
      "Enter a number to check fibonic: 5\n",
      "0\n",
      "1\n",
      "2\n",
      "4\n",
      "8\n"
     ]
    }
   ],
   "source": [
    "# Write a program to prin fibonic number.\n",
    "\n",
    "# 0, 1, 1, 2, 3, 5, 8, 13, 21, 34, ..., \n",
    "\n",
    "\n",
    "number = int(input(\"Enter a number to check fibonic: \"))\n",
    "\n",
    "n1 = 0\n",
    "n2 = 1\n",
    "\n",
    "for i in range(number): # 5\n",
    "    print(n1)\n",
    "    n3 = n2 + n1\n",
    "    n1 = n2\n",
    "    n2 = n3"
   ]
  },
  {
   "cell_type": "code",
   "execution_count": null,
   "id": "cae242a8",
   "metadata": {},
   "outputs": [],
   "source": [
    "# Write a program to print the factorial number.\n",
    "number = int(input(\"Enter a number : \"))\n",
    "fact = 1\n",
    "for i in range(1,number+1):\n",
    "    fact *= i    \n",
    "print(fact)"
   ]
  },
  {
   "cell_type": "code",
   "execution_count": 4,
   "id": "164b8faa",
   "metadata": {},
   "outputs": [],
   "source": [
    "# Write a program to check whether the number is armstrong or not.\n",
    "\n"
   ]
  },
  {
   "cell_type": "raw",
   "id": "12fa4ff5",
   "metadata": {},
   "source": [
    "# Input a number\n",
    "\n",
    "# Area of a circle.\n",
    "# Volume of sphear.\n"
   ]
  },
  {
   "cell_type": "code",
   "execution_count": 10,
   "id": "7af479d3",
   "metadata": {},
   "outputs": [
    {
     "name": "stdout",
     "output_type": "stream",
     "text": [
      "Enter the 5\n",
      "Area of circle is:  78.5\n",
      "Volume of spheare:  523.3333333333334\n"
     ]
    }
   ],
   "source": [
    "\n",
    "r = float(input(\"Enter the radius: \"))\n",
    "\n",
    "print(\"Area of circle is: \", 3.14*r*r)\n",
    "print(\"Volume of spheare: \", (4/3)*3.14*r*r*r)"
   ]
  },
  {
   "cell_type": "code",
   "execution_count": null,
   "id": "2bd0b384",
   "metadata": {},
   "outputs": [],
   "source": [
    "#Syntax:\n",
    "# BOC if condition else ELSE BOC"
   ]
  },
  {
   "cell_type": "code",
   "execution_count": 3,
   "id": "9899b21f",
   "metadata": {},
   "outputs": [
    {
     "name": "stdout",
     "output_type": "stream",
     "text": [
      "Enter your gender(M/F): F\n",
      "You are Female.\n"
     ]
    }
   ],
   "source": [
    "gender = input(\"Enter your gender(M/F): \")\n",
    "\n",
    "print(\"You are a Male.\") if gender == \"M\" else print(\"You are Female.\")"
   ]
  },
  {
   "cell_type": "code",
   "execution_count": null,
   "id": "8240e6fd",
   "metadata": {},
   "outputs": [],
   "source": []
  }
 ],
 "metadata": {
  "kernelspec": {
   "display_name": "Python 3 (ipykernel)",
   "language": "python",
   "name": "python3"
  },
  "language_info": {
   "codemirror_mode": {
    "name": "ipython",
    "version": 3
   },
   "file_extension": ".py",
   "mimetype": "text/x-python",
   "name": "python",
   "nbconvert_exporter": "python",
   "pygments_lexer": "ipython3",
   "version": "3.10.9"
  }
 },
 "nbformat": 4,
 "nbformat_minor": 5
}
